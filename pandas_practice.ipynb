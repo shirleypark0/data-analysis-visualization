{
 "cells": [
  {
   "cell_type": "code",
   "execution_count": null,
   "metadata": {},
   "outputs": [],
   "source": []
  },
  {
   "cell_type": "markdown",
   "metadata": {},
   "source": [
    "Pandas Data Type\n",
    "\n",
    "(1) Series\n",
    "(2) Data Frame"
   ]
  },
  {
   "cell_type": "code",
   "execution_count": null,
   "metadata": {},
   "outputs": [],
   "source": [
    "import numpy as np\n",
    "import matplotlib\n",
    "import pandas as pd"
   ]
  },
  {
   "cell_type": "markdown",
   "metadata": {},
   "source": [
    "Series 형식\n",
    "\n",
    "1차원 배열과 유사.\n",
    "색인(index)를 가지고 접근할 수 있음."
   ]
  },
  {
   "cell_type": "code",
   "execution_count": null,
   "metadata": {},
   "outputs": [
    {
     "data": {
      "text/plain": "0    7\n1    3\n2    5\n3    8\ndtype: int64"
     },
     "execution_count": 1,
     "metadata": {},
     "output_type": "execute_result"
    }
   ],
   "source": [
    "import pandas as pd\n",
    "pd.Series([7,3,5,8])"
   ]
  },
  {
   "cell_type": "code",
   "execution_count": null,
   "metadata": {},
   "outputs": [
    {
     "data": {
      "text/plain": "서울     7\n대구     3\n부산     5\n광주\n    8\ndtype: int64"
     },
     "execution_count": 3,
     "metadata": {},
     "output_type": "execute_result"
    }
   ],
   "source": [
    "import pandas as pd\n",
    "pd.Series([7,3,5,8], index=['서울', '대구', '부산', '광주\u001d'])"
   ]
  },
  {
   "cell_type": "code",
   "execution_count": null,
   "metadata": {},
   "outputs": [
    {
     "name": "stdout",
     "output_type": "stream",
     "text": [
      "서울     7\n",
      "대구     3\n",
      "부산     5\n",
      "광주\u001d    8\n",
      "dtype: int64\n"
     ]
    }
   ],
   "source": [
    "import pandas as pd\n",
    "x = pd.Series([7,3,5,8], index=['서울', '대구', '부산', '광주\u001d'])\n",
    "print(x)"
   ]
  },
  {
   "cell_type": "markdown",
   "metadata": {},
   "source": [
    "x[]\n",
    "#[] 안에 들어가는 건 하나의 값이거나, 범위"
   ]
  },
  {
   "cell_type": "code",
   "execution_count": null,
   "metadata": {},
   "outputs": [
    {
     "data": {
      "text/plain": "서울    7\n부산    5\ndtype: int64"
     },
     "execution_count": 6,
     "metadata": {},
     "output_type": "execute_result"
    }
   ],
   "source": [
    "x[1:3] #1:4 --> 1, 2, 3\n",
    "x[['서울', '부산']] #리스트 형태로 '서울'을 가져오는 것. 그래서 값만 출력이 됌\n",
    "#['서울', '부산'] --> 서울이랑 부산 출력"
   ]
  },
  {
   "cell_type": "markdown",
   "metadata": {},
   "source": [
    "index와 value 값"
   ]
  },
  {
   "cell_type": "code",
   "execution_count": null,
   "metadata": {},
   "outputs": [
    {
     "name": "stdout",
     "output_type": "stream",
     "text": [
      "Index(['서울', '대구', '부산', '광주\u001d'], dtype='object')\n",
      "[7 3 5 8]\n"
     ]
    }
   ],
   "source": [
    "print(x.index)\n",
    "print(x.values)"
   ]
  },
  {
   "cell_type": "code",
   "execution_count": null,
   "metadata": {},
   "outputs": [],
   "source": [
    "sorted(x.index) #ㄱ~ㅎ 순서\n",
    "sorted(x.values) #작은 수 ~ 큰 수 순서"
   ]
  },
  {
   "cell_type": "code",
   "execution_count": null,
   "metadata": {},
   "outputs": [],
   "source": [
    "# reindex() --> series 전체를 위의 값에 따라 다시 정열\n",
    "x = .reindex(sorted(x.index))\n",
    "print(x)"
   ]
  },
  {
   "cell_type": "code",
   "execution_count": null,
   "metadata": {},
   "outputs": [
    {
     "name": "stdout",
     "output_type": "stream",
     "text": [
      "3   NaN\n",
      "5   NaN\n",
      "7   NaN\n",
      "8   NaN\n",
      "dtype: float64\n"
     ]
    }
   ],
   "source": [
    "x = x.reindex(sorted(x.values))\n",
    "print(x)\n",
    "#value로 정열 할 수 없음. NaN = 값이 없다\n",
    "#Nan 으로 나오면 data type이 float로 바뀜"
   ]
  },
  {
   "cell_type": "code",
   "execution_count": null,
   "metadata": {},
   "outputs": [],
   "source": [
    "x = pd.Series([3,8,5,9], index=['서울', '대구', '부산', '광주\u001d'])\n",
    "y = pd.Series([2,3,5,1], index=['대구', '부산', '서울', '대전'])\n",
    "x+y\n",
    "#공통된 index가 있어야 +이 되고 안겹칠 경우 NaN으로 값이 없다고 뜸"
   ]
  },
  {
   "cell_type": "code",
   "execution_count": null,
   "metadata": {},
   "outputs": [
    {
     "name": "stdout",
     "output_type": "stream",
     "text": [
      "[1 2 3 4]\n"
     ]
    }
   ],
   "source": [
    "medal = [1,2,3,4,2,3]\n",
    "x = pd.Series(medal)\n",
    "print(pd.unique(x))"
   ]
  },
  {
   "cell_type": "code",
   "execution_count": null,
   "metadata": {},
   "outputs": [
    {
     "data": {
      "text/plain": "민준    23\n현우    43\n서연    12\n동현    45\ndtype: int64"
     },
     "execution_count": 12,
     "metadata": {},
     "output_type": "execute_result"
    }
   ],
   "source": [
    "#딕셔너리 형태를 Series로 변환\n",
    "age = {'민준' : 23, '현우' : 43, '서연' : 12, '동현' : 45}\n",
    "x = pd.Series(age)\n",
    "x"
   ]
  },
  {
   "cell_type": "code",
   "execution_count": null,
   "metadata": {},
   "outputs": [
    {
     "name": "stdout",
     "output_type": "stream",
     "text": [
      "0    문준\n",
      "1    서연\n",
      "2    현우\n",
      "3    민서\n",
      "4    동현\n",
      "5    수빈\n",
      "dtype: object\n"
     ]
    }
   ],
   "source": [
    "names = ['문준', '서연', '현우', '민서', '동현', '수빈']\n",
    "pdata = pd.Series(names)\n",
    "print(pdata)"
   ]
  },
  {
   "cell_type": "code",
   "execution_count": null,
   "metadata": {},
   "outputs": [
    {
     "name": "stdout",
     "output_type": "stream",
     "text": [
      "['민서' '동현' '수빈']\n"
     ]
    }
   ],
   "source": [
    "a = pdata[3:6]\n",
    "print(a.values)\n",
    "#print(a)"
   ]
  },
  {
   "cell_type": "code",
   "execution_count": null,
   "metadata": {},
   "outputs": [],
   "source": [
    "#a는 index 넘버까지 slice를 하기 때문에\n",
    "#a에는 2라는 인덱스가 없음. 에러뜸\n",
    "print(a[2])"
   ]
  },
  {
   "cell_type": "code",
   "execution_count": null,
   "metadata": {},
   "outputs": [],
   "source": []
  },
  {
   "cell_type": "markdown",
   "metadata": {},
   "source": [
    "Data Frame\n",
    "\n",
    "크거나 복잡한 데이타 정리에 탁월"
   ]
  },
  {
   "cell_type": "code",
   "execution_count": null,
   "metadata": {},
   "outputs": [],
   "source": [
    "data = {'age': [23,43,12,45],\n",
    "    'name': ['민준', '현우', '서연', '동현'],\n",
    "    'height': [175.3, 180.3, 165.8, 172.7]}\n",
    "\n",
    "x = pd.DataFrame(data, columns=['name', 'age', 'height'])"
   ]
  },
  {
   "cell_type": "code",
   "execution_count": null,
   "metadata": {},
   "outputs": [
    {
     "data": {
      "text/html": "<div>\n<style scoped>\n    .dataframe tbody tr th:only-of-type {\n        vertical-align: middle;\n    }\n\n    .dataframe tbody tr th {\n        vertical-align: top;\n    }\n\n    .dataframe thead th {\n        text-align: right;\n    }\n</style>\n<table border=\"1\" class=\"dataframe\">\n  <thead>\n    <tr style=\"text-align: right;\">\n      <th></th>\n      <th>first</th>\n      <th>second</th>\n    </tr>\n  </thead>\n  <tbody>\n    <tr>\n      <th>0</th>\n      <td>1</td>\n      <td>2</td>\n    </tr>\n    <tr>\n      <th>1</th>\n      <td>3</td>\n      <td>4</td>\n    </tr>\n    <tr>\n      <th>2</th>\n      <td>5</td>\n      <td>6</td>\n    </tr>\n  </tbody>\n</table>\n</div>",
      "text/plain": "   first  second\n0      1       2\n1      3       4\n2      5       6"
     },
     "execution_count": 19,
     "metadata": {},
     "output_type": "execute_result"
    }
   ],
   "source": [
    "ary = [[1,2], [3,4], [5,6]]\n",
    "data = pd.DataFrame(ary, columns=['first', 'second'])\n",
    "data"
   ]
  },
  {
   "cell_type": "code",
   "execution_count": null,
   "metadata": {},
   "outputs": [
    {
     "data": {
      "text/plain": "0    2\n1    4\n2    6\nName: second, dtype: int64"
     },
     "execution_count": 21,
     "metadata": {},
     "output_type": "execute_result"
    }
   ],
   "source": [
    "data.iloc[1] #1번 index만 출력\n",
    "#수직으로 호출\n",
    "#data.iloc[:,-1] --> 처음부터 끝까지 다 출력"
   ]
  },
  {
   "cell_type": "code",
   "execution_count": 1,
   "metadata": {},
   "outputs": [
    {
     "ename": "NameError",
     "evalue": "name 'pd' is not defined",
     "output_type": "error",
     "traceback": [
      "\u001b[0;31m---------------------------------------------------------------------------\u001b[0m",
      "\u001b[0;31mNameError\u001b[0m                                 Traceback (most recent call last)",
      "\u001b[0;32m<ipython-input-1-9b720757f4cc>\u001b[0m in \u001b[0;36m<module>\u001b[0;34m\u001b[0m\n\u001b[1;32m      1\u001b[0m \u001b[0mary\u001b[0m \u001b[0;34m=\u001b[0m \u001b[0;34m[\u001b[0m\u001b[0;34m[\u001b[0m\u001b[0;36m1\u001b[0m\u001b[0;34m,\u001b[0m\u001b[0;36m2\u001b[0m\u001b[0;34m]\u001b[0m\u001b[0;34m,\u001b[0m \u001b[0;34m[\u001b[0m\u001b[0;36m3\u001b[0m\u001b[0;34m,\u001b[0m\u001b[0;36m4\u001b[0m\u001b[0;34m]\u001b[0m\u001b[0;34m,\u001b[0m \u001b[0;34m[\u001b[0m\u001b[0;36m5\u001b[0m\u001b[0;34m,\u001b[0m\u001b[0;36m6\u001b[0m\u001b[0;34m]\u001b[0m\u001b[0;34m,\u001b[0m \u001b[0;34m[\u001b[0m\u001b[0;36m7\u001b[0m\u001b[0;34m,\u001b[0m\u001b[0;36m8\u001b[0m\u001b[0;34m]\u001b[0m\u001b[0;34m,\u001b[0m \u001b[0;34m[\u001b[0m\u001b[0;36m9\u001b[0m\u001b[0;34m,\u001b[0m\u001b[0;36m10\u001b[0m\u001b[0;34m]\u001b[0m\u001b[0;34m,\u001b[0m \u001b[0;34m[\u001b[0m\u001b[0;36m11\u001b[0m\u001b[0;34m,\u001b[0m\u001b[0;36m12\u001b[0m\u001b[0;34m]\u001b[0m\u001b[0;34m]\u001b[0m\u001b[0;34m\u001b[0m\u001b[0;34m\u001b[0m\u001b[0m\n\u001b[0;32m----> 2\u001b[0;31m \u001b[0mdata\u001b[0m \u001b[0;34m=\u001b[0m \u001b[0mpd\u001b[0m\u001b[0;34m.\u001b[0m\u001b[0mDataFrame\u001b[0m\u001b[0;34m(\u001b[0m\u001b[0mary\u001b[0m\u001b[0;34m,\u001b[0m \u001b[0mcolumns\u001b[0m\u001b[0;34m=\u001b[0m\u001b[0;34m[\u001b[0m\u001b[0;34m'first'\u001b[0m\u001b[0;34m,\u001b[0m \u001b[0;34m'second'\u001b[0m\u001b[0;34m]\u001b[0m\u001b[0;34m)\u001b[0m\u001b[0;34m\u001b[0m\u001b[0;34m\u001b[0m\u001b[0m\n\u001b[0m\u001b[1;32m      3\u001b[0m \u001b[0mdata\u001b[0m\u001b[0;34m.\u001b[0m\u001b[0mhead\u001b[0m\u001b[0;34m(\u001b[0m\u001b[0;36m3\u001b[0m\u001b[0;34m)\u001b[0m\u001b[0;34m\u001b[0m\u001b[0;34m\u001b[0m\u001b[0m\n",
      "\u001b[0;31mNameError\u001b[0m: name 'pd' is not defined"
     ]
    }
   ],
   "source": [
    "ary = [[1,2], [3,4], [5,6], [7,8], [9,10], [11,12]]\n",
    "data = pd.DataFrame(ary, columns=['first', 'second'])\n",
    "data.head(3)"
   ]
  },
  {
   "cell_type": "code",
   "execution_count": null,
   "metadata": {},
   "outputs": [],
   "source": [
    "data.tail(3)"
   ]
  },
  {
   "cell_type": "code",
   "execution_count": null,
   "metadata": {},
   "outputs": [],
   "source": []
  },
  {
   "cell_type": "code",
   "execution_count": 2,
   "metadata": {},
   "outputs": [
    {
     "data": {
      "text/html": "<div>\n<style scoped>\n    .dataframe tbody tr th:only-of-type {\n        vertical-align: middle;\n    }\n\n    .dataframe tbody tr th {\n        vertical-align: top;\n    }\n\n    .dataframe thead th {\n        text-align: right;\n    }\n</style>\n<table border=\"1\" class=\"dataframe\">\n  <thead>\n    <tr style=\"text-align: right;\">\n      <th></th>\n      <th>수온</th>\n      <th>상온</th>\n    </tr>\n  </thead>\n  <tbody>\n    <tr>\n      <th>0</th>\n      <td>1</td>\n      <td>2</td>\n    </tr>\n    <tr>\n      <th>1</th>\n      <td>3</td>\n      <td>4</td>\n    </tr>\n    <tr>\n      <th>2</th>\n      <td>5</td>\n      <td>6</td>\n    </tr>\n    <tr>\n      <th>3</th>\n      <td>7</td>\n      <td>8</td>\n    </tr>\n    <tr>\n      <th>4</th>\n      <td>9</td>\n      <td>10</td>\n    </tr>\n  </tbody>\n</table>\n</div>",
      "text/plain": "   수온  상온\n0   1   2\n1   3   4\n2   5   6\n3   7   8\n4   9  10"
     },
     "execution_count": 2,
     "metadata": {},
     "output_type": "execute_result"
    }
   ],
   "source": [
    "import pandas as pd\n",
    "import numpy as np\n",
    "ary = [[1,2], [3,4], [5,6], [7,8], [9,10]]\n",
    "data = pd.DataFrame(ary, columns=['수온', '상온'])\n",
    "data"
   ]
  },
  {
   "cell_type": "code",
   "execution_count": 3,
   "metadata": {},
   "outputs": [
    {
     "name": "stdout",
     "output_type": "stream",
     "text": [
      "    수온  상온\n",
      "0  1.0   2\n",
      "1  3.0   4\n",
      "2  5.0   6\n",
      "3  7.0   8\n",
      "4  9.0  10\n"
     ]
    }
   ],
   "source": [
    "data['수온'] = data['수온'].astype('float')\n",
    "print(data)"
   ]
  },
  {
   "cell_type": "code",
   "execution_count": 6,
   "metadata": {},
   "outputs": [
    {
     "data": {
      "text/html": "<div>\n<style scoped>\n    .dataframe tbody tr th:only-of-type {\n        vertical-align: middle;\n    }\n\n    .dataframe tbody tr th {\n        vertical-align: top;\n    }\n\n    .dataframe thead th {\n        text-align: right;\n    }\n</style>\n<table border=\"1\" class=\"dataframe\">\n  <thead>\n    <tr style=\"text-align: right;\">\n      <th></th>\n      <th>news_title</th>\n      <th>news_link</th>\n    </tr>\n  </thead>\n  <tbody>\n    <tr>\n      <th>0</th>\n      <td>[지금은 과학] 출생 성비균형 이루는 RNA 찾았다</td>\n      <td>http://www.inews24.com/view/1374618</td>\n    </tr>\n    <tr>\n      <th>1</th>\n      <td>딥노이드, 고용노동부 주최 소프트웨어 인재 양성 대책 마련 간담회 참여</td>\n      <td>http://www.cstimes.com/news/articleView.html?i...</td>\n    </tr>\n    <tr>\n      <th>2</th>\n      <td>지스트, 출생 성비 균형을 조절하는 RNA발견</td>\n      <td>http://www.sisamagazine.co.kr/news/articleView...</td>\n    </tr>\n    <tr>\n      <th>3</th>\n      <td>광주인공지능사관학교 최종합격자 발표</td>\n      <td>http://www.breaknews.com/811615</td>\n    </tr>\n    <tr>\n      <th>4</th>\n      <td>서원대, 2021.서원코딩페스티벌 진행</td>\n      <td>http://www.breaknews.com/811997</td>\n    </tr>\n  </tbody>\n</table>\n</div>",
      "text/plain": "                                news_title  \\\n0             [지금은 과학] 출생 성비균형 이루는 RNA 찾았다   \n1  딥노이드, 고용노동부 주최 소프트웨어 인재 양성 대책 마련 간담회 참여   \n2                지스트, 출생 성비 균형을 조절하는 RNA발견   \n3                      광주인공지능사관학교 최종합격자 발표   \n4                    서원대, 2021.서원코딩페스티벌 진행   \n\n                                           news_link  \n0                http://www.inews24.com/view/1374618  \n1  http://www.cstimes.com/news/articleView.html?i...  \n2  http://www.sisamagazine.co.kr/news/articleView...  \n3                    http://www.breaknews.com/811615  \n4                    http://www.breaknews.com/811997  "
     },
     "execution_count": 6,
     "metadata": {},
     "output_type": "execute_result"
    }
   ],
   "source": [
    "import pandas as pd\n",
    "news = pd.read_csv('./Data Collection (Scraping)/news_result.csv')\n",
    "news.head()"
   ]
  },
  {
   "cell_type": "code",
   "execution_count": 7,
   "metadata": {},
   "outputs": [
    {
     "data": {
      "text/html": "<div>\n<style scoped>\n    .dataframe tbody tr th:only-of-type {\n        vertical-align: middle;\n    }\n\n    .dataframe tbody tr th {\n        vertical-align: top;\n    }\n\n    .dataframe thead th {\n        text-align: right;\n    }\n</style>\n<table border=\"1\" class=\"dataframe\">\n  <thead>\n    <tr style=\"text-align: right;\">\n      <th></th>\n      <th>측정일자</th>\n      <th>측정시간</th>\n      <th>지역</th>\n      <th>지역명</th>\n      <th>도로명</th>\n      <th>시작점</th>\n      <th>종점</th>\n      <th>기온 (℃)</th>\n      <th>습도 (%)</th>\n      <th>재비산먼지 평균농도(㎍/㎥)</th>\n      <th>오염범례</th>\n    </tr>\n  </thead>\n  <tbody>\n    <tr>\n      <th>0</th>\n      <td>05-03</td>\n      <td>10:03</td>\n      <td>서울</td>\n      <td>구로구</td>\n      <td>부일로</td>\n      <td>서울특별시 구로구 궁동 197-10</td>\n      <td>서울특별시 구로구 온수동 56</td>\n      <td>15</td>\n      <td>51</td>\n      <td>20</td>\n      <td>매우좋음</td>\n    </tr>\n    <tr>\n      <th>1</th>\n      <td>05-03</td>\n      <td>10:19</td>\n      <td>서울</td>\n      <td>구로구</td>\n      <td>서해안로</td>\n      <td>서울특별시 구로구 항동 211-12</td>\n      <td>서울특별시 구로구 개봉동 247-23</td>\n      <td>16</td>\n      <td>48</td>\n      <td>17</td>\n      <td>매우좋음</td>\n    </tr>\n    <tr>\n      <th>2</th>\n      <td>05-03</td>\n      <td>10:47</td>\n      <td>서울</td>\n      <td>구로구</td>\n      <td>중앙로</td>\n      <td>서울특별시 구로구 고척동 69-9</td>\n      <td>서울특별시 구로구 고척동 1-15</td>\n      <td>17</td>\n      <td>42</td>\n      <td>15</td>\n      <td>매우좋음</td>\n    </tr>\n    <tr>\n      <th>3</th>\n      <td>05-03</td>\n      <td>10:54</td>\n      <td>서울</td>\n      <td>구로구</td>\n      <td>고척로</td>\n      <td>서울특별시 구로구 고척동 186-4</td>\n      <td>서울특별시 구로구 오류동 6-41</td>\n      <td>17</td>\n      <td>43</td>\n      <td>17</td>\n      <td>매우좋음</td>\n    </tr>\n    <tr>\n      <th>4</th>\n      <td>05-03</td>\n      <td>11:16</td>\n      <td>서울</td>\n      <td>구로구</td>\n      <td>오리로</td>\n      <td>서울특별시 구로구 궁동 5</td>\n      <td>서울특별시 구로구 천왕동 3-8</td>\n      <td>18</td>\n      <td>41</td>\n      <td>17</td>\n      <td>매우좋음</td>\n    </tr>\n  </tbody>\n</table>\n</div>",
      "text/plain": "    측정일자   측정시간  지역  지역명   도로명                  시작점                    종점  \\\n0  05-03  10:03  서울  구로구   부일로  서울특별시 구로구 궁동 197-10      서울특별시 구로구 온수동 56   \n1  05-03  10:19  서울  구로구  서해안로  서울특별시 구로구 항동 211-12  서울특별시 구로구 개봉동 247-23   \n2  05-03  10:47  서울  구로구   중앙로   서울특별시 구로구 고척동 69-9    서울특별시 구로구 고척동 1-15   \n3  05-03  10:54  서울  구로구   고척로  서울특별시 구로구 고척동 186-4    서울특별시 구로구 오류동 6-41   \n4  05-03  11:16  서울  구로구   오리로       서울특별시 구로구 궁동 5     서울특별시 구로구 천왕동 3-8   \n\n   기온 (℃)  습도 (%)  재비산먼지 평균농도(㎍/㎥)  오염범례  \n0      15      51               20  매우좋음  \n1      16      48               17  매우좋음  \n2      17      42               15  매우좋음  \n3      17      43               17  매우좋음  \n4      18      41               17  매우좋음  "
     },
     "execution_count": 7,
     "metadata": {},
     "output_type": "execute_result"
    }
   ],
   "source": [
    "import pandas as pd\n",
    "data = pd.read_csv('./한국환경공단_도로 재비산먼지 측정 정보_20210531.csv', encoding='cp949')\n",
    "data.head() \n",
    "\n",
    "#한국어는 주로 utf-8 아니면 cp949"
   ]
  }
 ],
 "metadata": {
  "kernelspec": {
   "display_name": "Python 3.9.5 64-bit ('3.9')",
   "name": "python395jvsc74a57bd07812ea015bdcee6f23a998adcdd2ef97c151c0c241b7b7070987d9313e41299d"
  },
  "language_info": {
   "name": "python",
   "version": ""
  },
  "metadata": {
   "interpreter": {
    "hash": "7812ea015bdcee6f23a998adcdd2ef97c151c0c241b7b7070987d9313e41299d"
   }
  },
  "orig_nbformat": 2
 },
 "nbformat": 4,
 "nbformat_minor": 2
}
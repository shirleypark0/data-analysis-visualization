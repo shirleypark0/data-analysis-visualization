{
 "metadata": {
  "language_info": {
   "codemirror_mode": {
    "name": "ipython",
    "version": 3
   },
   "file_extension": ".py",
   "mimetype": "text/x-python",
   "name": "python",
   "nbconvert_exporter": "python",
   "pygments_lexer": "ipython3",
   "version": "3.9.1"
  },
  "orig_nbformat": 4,
  "kernelspec": {
   "name": "python3",
   "display_name": "Python 3.9.1 64-bit"
  },
  "interpreter": {
   "hash": "d5a1a4f6ce25169582ebad7c485937375383d04532466ebacf8813c3dcbf00c9"
  }
 },
 "nbformat": 4,
 "nbformat_minor": 2,
 "cells": [
  {
   "cell_type": "code",
   "execution_count": 4,
   "metadata": {},
   "outputs": [],
   "source": [
    "def read_seq(inputfile):\n",
    "    with open(inputfile, 'r') as f:\n",
    "        sequence = f.read()\n",
    "    sequence=sequence.replace(' ', '')\n",
    "    sequence=sequence.replace('\\n', '')\n",
    "    sequence=sequence.replace('\\r', '')\n",
    "    return sequence"
   ]
  },
  {
   "cell_type": "code",
   "execution_count": 5,
   "metadata": {},
   "outputs": [],
   "source": [
    "def convert(seq):\n",
    "    genetic_code = {\n",
    "        'TTT': 'F', 'TTC': 'F', 'TTA': 'L', 'TTG': 'L', 'TCT': 'S',\n",
    "        'TCC': 'S', 'TCA': 'S', 'TCG': 'S', 'TAT': 'Y', 'TAC': 'Y',\n",
    "        'TGT': 'C', 'TGC': 'C', 'TGG': 'W', 'CTT': 'L', 'CTC': 'L',\n",
    "        'CTA': 'L', 'CTG': 'L', 'CCT': 'P', 'CCC': 'P', 'CCA': 'P',\n",
    "        'CCG': 'P', 'CAT': 'H', 'CAC': 'H', 'CAA': 'Q', 'CAG': 'Q',\n",
    "        'CGT': 'R', 'CGC': 'R', 'CGA': 'R', 'CGG': 'R', 'ATT': 'I',\n",
    "        'ATC': 'I', 'ATA': 'I', 'ATG': 'M', 'ACT': 'T', 'ACC': 'T',\n",
    "        'ACA': 'T', 'ACG': 'T', 'AAT': 'N', 'AAC': 'N', 'AAA': 'K',\n",
    "        'AAG': 'K', 'AGT': 'S', 'AGC': 'S', 'AGA': 'R', 'AGG': 'R',\n",
    "        'GTT': 'V', 'GTC': 'V', 'GTA': 'V', 'GTG': 'V', 'GCT': 'A',\n",
    "        'GCC': 'A', 'GCA': 'A', 'GCG': 'A', 'GAT': 'D', 'GAC': 'D',\n",
    "        'GAA': 'E', 'GAG': 'E', 'GGT': 'G', 'GGC': 'G', 'GGA': 'G',\n",
    "        'GGG': 'G', 'TAA': '_', 'TAG': '_', 'TGA': '_'\n",
    "    }\n",
    "    protein=\"\"\n",
    "    if len(seq)%3==0:\n",
    "        for i in range(0, len(seq), 3):\n",
    "            codon = seq[i:i+3]\n",
    "            protein += genetic_code[codon]\n",
    "        return protein"
   ]
  },
  {
   "cell_type": "code",
   "execution_count": 6,
   "metadata": {},
   "outputs": [
    {
     "output_type": "stream",
     "name": "stdout",
     "text": [
      "correct answer!\n"
     ]
    }
   ],
   "source": [
    "# 데이터 불러오기\n",
    "with open('NM_207618.2.fasta', 'r') as inf:\n",
    "    data = inf.read().splitlines(True)\n",
    "with open('result_data.txt', 'w') as outf:\n",
    "    outf.writelines(data[1:])\n",
    "\n",
    "# 전처리\n",
    "dna = read_seq('result_data.txt')\n",
    "\n",
    "# protein 변환\n",
    "result = convert(dna[20:935])\n",
    "\n",
    "# 정답 불러오기\n",
    "protein = read_seq('solution_data.txt')\n",
    "\n",
    "if result == protein:\n",
    "    print(\"correct answer!\")\n",
    "else:\n",
    "    print(\"not correct answer!\")"
   ]
  }
 ]
}
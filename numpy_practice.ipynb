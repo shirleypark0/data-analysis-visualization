{
 "metadata": {
  "language_info": {
   "codemirror_mode": {
    "name": "ipython",
    "version": 3
   },
   "file_extension": ".py",
   "mimetype": "text/x-python",
   "name": "python",
   "nbconvert_exporter": "python",
   "pygments_lexer": "ipython3",
   "version": "3.9.1"
  },
  "orig_nbformat": 4,
  "kernelspec": {
   "name": "python3",
   "display_name": "Python 3.9.1 64-bit"
  },
  "interpreter": {
   "hash": "d5a1a4f6ce25169582ebad7c485937375383d04532466ebacf8813c3dcbf00c9"
  }
 },
 "nbformat": 4,
 "nbformat_minor": 2,
 "cells": [
  {
   "source": [
    "**Numpy** 모듈에서 제공하는 배열의 기능  \n",
    "1-1. zeros() : 괄호 안에 입력된 숫자만큼의 원소를 생성하고 0으로 초기화  \n",
    "1-2. ones() : 괄호 안에 입력된 숫자만큼의 원소를 생성하고 1로 초기화"
   ],
   "cell_type": "markdown",
   "metadata": {}
  },
  {
   "cell_type": "code",
   "execution_count": 3,
   "metadata": {},
   "outputs": [
    {
     "output_type": "stream",
     "name": "stdout",
     "text": [
      "[[0. 0. 0. 0.]\n [0. 0. 0. 0.]]\n"
     ]
    }
   ],
   "source": [
    "import numpy as np\n",
    "x = np.zeros([4])\n",
    "y = np.zeros([2, 4])\n",
    "z = np.zeros([3, 2, 4])\n",
    "# print(x)\n",
    "print(y)\n",
    "# print(z)"
   ]
  },
  {
   "cell_type": "code",
   "execution_count": 2,
   "metadata": {},
   "outputs": [
    {
     "output_type": "execute_result",
     "data": {
      "text/plain": [
       "array([[1., 1., 1., 1.],\n",
       "       [1., 1., 1., 1.],\n",
       "       [1., 1., 1., 1.]])"
      ]
     },
     "metadata": {},
     "execution_count": 2
    }
   ],
   "source": [
    "a = np.ones([3,4])\n",
    "a"
   ]
  },
  {
   "source": [
    "2. mean : 평균 구하기"
   ],
   "cell_type": "markdown",
   "metadata": {}
  },
  {
   "cell_type": "code",
   "execution_count": 121,
   "metadata": {},
   "outputs": [
    {
     "output_type": "error",
     "ename": "AttributeError",
     "evalue": "'list' object has no attribute 'mean'",
     "traceback": [
      "\u001b[1;31m---------------------------------------------------------------------------\u001b[0m",
      "\u001b[1;31mAttributeError\u001b[0m                            Traceback (most recent call last)",
      "\u001b[1;32m<ipython-input-121-05cfab23284f>\u001b[0m in \u001b[0;36m<module>\u001b[1;34m\u001b[0m\n\u001b[0;32m      1\u001b[0m \u001b[1;31m# 파이썬 리스트로 실행\u001b[0m\u001b[1;33m\u001b[0m\u001b[1;33m\u001b[0m\u001b[1;33m\u001b[0m\u001b[0m\n\u001b[0;32m      2\u001b[0m \u001b[0mx\u001b[0m \u001b[1;33m=\u001b[0m \u001b[1;33m[\u001b[0m\u001b[1;36m1\u001b[0m\u001b[1;33m,\u001b[0m\u001b[1;36m3\u001b[0m\u001b[1;33m,\u001b[0m\u001b[1;36m5\u001b[0m\u001b[1;33m]\u001b[0m\u001b[1;33m\u001b[0m\u001b[1;33m\u001b[0m\u001b[0m\n\u001b[1;32m----> 3\u001b[1;33m \u001b[0mx\u001b[0m\u001b[1;33m.\u001b[0m\u001b[0mmean\u001b[0m\u001b[1;33m(\u001b[0m\u001b[1;33m)\u001b[0m\u001b[1;33m\u001b[0m\u001b[1;33m\u001b[0m\u001b[0m\n\u001b[0m",
      "\u001b[1;31mAttributeError\u001b[0m: 'list' object has no attribute 'mean'"
     ]
    }
   ],
   "source": [
    "# 파이썬 리스트로 실행\n",
    "x = [1,3,5]\n",
    "x.mean()"
   ]
  },
  {
   "cell_type": "code",
   "execution_count": 136,
   "metadata": {},
   "outputs": [
    {
     "output_type": "stream",
     "name": "stdout",
     "text": [
      "3.0\n(3,)\n"
     ]
    }
   ],
   "source": [
    "# numpy 모듈 np라는 이름으로 불러오기\n",
    "import numpy as np\n",
    "\n",
    "# 리스트를 numpy 형식으로 변환, numpy 배열 만들기\n",
    "x=np.array([1,3,5])\n",
    "\n",
    "# 출력\n",
    "print(x.mean())\n",
    "print(x.shape)"
   ]
  },
  {
   "cell_type": "code",
   "execution_count": 131,
   "metadata": {},
   "outputs": [
    {
     "output_type": "stream",
     "name": "stdout",
     "text": [
      "(3, 3)\n"
     ]
    }
   ],
   "source": [
    "# 2차원 배열\n",
    "a = np.array([[1,2,3],[2,3,4],[3,4,5]])\n",
    "# 출력 결과\n",
    "print(a.shape)"
   ]
  },
  {
   "source": [
    "알고가자!  \n",
    "mean() 은 numpy 모듈이 제공하는 함수  \n",
    "shape 는 numpy 배열 객체의 속성"
   ],
   "cell_type": "markdown",
   "metadata": {}
  },
  {
   "cell_type": "code",
   "execution_count": 134,
   "metadata": {},
   "outputs": [
    {
     "output_type": "stream",
     "name": "stdout",
     "text": [
      "['책']\n"
     ]
    }
   ],
   "source": [
    "# class 객체의 함수와 속성 예시\n",
    "class Person:\n",
    "    bag = []\n",
    " \n",
    "    def put_bag(self, stuff):\n",
    "        self.bag.append(stuff)\n",
    " \n",
    "james = Person()\n",
    "james.put_bag('책')\n",
    " \n",
    "# maria = Person()\n",
    "# maria.put_bag('열쇠')\n",
    " \n",
    "print(james.bag)\n",
    "# print(maria.bag)"
   ]
  },
  {
   "cell_type": "code",
   "execution_count": 138,
   "metadata": {},
   "outputs": [
    {
     "output_type": "stream",
     "name": "stdout",
     "text": [
      "[1 3 5]\n"
     ]
    }
   ],
   "source": [
    "# 반드시 리스트 형태로 입력해야한다.\n",
    "# x=np.array(1,3,5)\n",
    "x=np.array([1,3,5])\n",
    "print(x)"
   ]
  },
  {
   "source": [
    "3. reshape : shape 바꾸기"
   ],
   "cell_type": "markdown",
   "metadata": {}
  },
  {
   "cell_type": "code",
   "execution_count": 141,
   "metadata": {},
   "outputs": [
    {
     "output_type": "stream",
     "name": "stdout",
     "text": [
      "[[ 1  3]\n [ 5  7]\n [ 9 11]]\n"
     ]
    }
   ],
   "source": [
    "# x = np.array([1,3,5,7,9,11]).reshape(3,2)\n",
    "x = np.array([1,3,5,7,9,11])\n",
    "x = x.reshape(3,2)\n",
    "print(x)"
   ]
  },
  {
   "cell_type": "code",
   "execution_count": 145,
   "metadata": {},
   "outputs": [
    {
     "output_type": "stream",
     "name": "stdout",
     "text": [
      "[2 4 6]\n4.0\n3.5\n(2, 3)\n"
     ]
    }
   ],
   "source": [
    "x=np.array([[1,3,5],[2,4,6]])\n",
    "print(x[1])\n",
    "print(x[1].mean())\n",
    "print(x.mean())\n",
    "print(x.shape)"
   ]
  },
  {
   "cell_type": "code",
   "execution_count": 146,
   "metadata": {},
   "outputs": [
    {
     "output_type": "stream",
     "name": "stdout",
     "text": [
      "12\n"
     ]
    }
   ],
   "source": [
    "# 출력 결과\n",
    "x=[[1,11],[2,12],[2,12],[3,13]]\n",
    "print(x[1][1])"
   ]
  },
  {
   "source": [
    "Numpy 배열의 **슬라이싱**"
   ],
   "cell_type": "markdown",
   "metadata": {}
  },
  {
   "cell_type": "code",
   "execution_count": 151,
   "metadata": {},
   "outputs": [
    {
     "output_type": "stream",
     "name": "stdout",
     "text": [
      "[2, 12]\n"
     ]
    }
   ],
   "source": [
    "# 파이썬 리스트에서, 각 원소인 1차원 배열의 2번째 요소만 출력하기\n",
    "# 목표 : 11, 12, 13\n",
    "x=[[1,11],[2,12],[3,13]]\n",
    "# print(x[:,1])\n",
    "print(x[:][1])"
   ]
  },
  {
   "cell_type": "code",
   "execution_count": 7,
   "metadata": {},
   "outputs": [
    {
     "output_type": "stream",
     "name": "stdout",
     "text": [
      "[11 12 13]\n[ 2 12]\n"
     ]
    }
   ],
   "source": [
    "# numpy 슬라이싱\n",
    "import numpy as np\n",
    "x = np.array([[1,11],[2,12],[3,13]])\n",
    "print(x[:,1])\n",
    "print(x[:][1])"
   ]
  },
  {
   "cell_type": "code",
   "execution_count": null,
   "metadata": {},
   "outputs": [],
   "source": [
    "import numpy as np\n",
    "x = [[1,11],[2,12],[3,13]]\n",
    "print(np.array(x[:,1]))"
   ]
  },
  {
   "cell_type": "code",
   "execution_count": 155,
   "metadata": {},
   "outputs": [
    {
     "output_type": "stream",
     "name": "stdout",
     "text": [
      "[11 12 13]\n"
     ]
    }
   ],
   "source": [
    "# 다른 방식\n",
    "import numpy as np\n",
    "x = np.array([[1,11],[2,12],[3,13]])\n",
    "print(x[:,1])"
   ]
  },
  {
   "cell_type": "code",
   "execution_count": 160,
   "metadata": {},
   "outputs": [
    {
     "output_type": "stream",
     "name": "stdout",
     "text": [
      "[ 1 11]\n"
     ]
    }
   ],
   "source": [
    "# 출력 결과\n",
    "import numpy as np\n",
    "x = [[1,11],[2,12],[3,13]]\n",
    "print(np.array(x[:][0]))"
   ]
  },
  {
   "source": [
    "numpy 연산"
   ],
   "cell_type": "markdown",
   "metadata": {}
  },
  {
   "cell_type": "code",
   "execution_count": 170,
   "metadata": {},
   "outputs": [
    {
     "output_type": "stream",
     "name": "stdout",
     "text": [
      "[1.4142135623730951, 1.7320508075688772, 2.0]\n"
     ]
    }
   ],
   "source": [
    "# 파이썬에서 제공하는 sqrt함수\n",
    "import math\n",
    "math.sqrt(2)\n",
    "\n",
    "# num=[2,3,4]\n",
    "# result = list(map(math.sqrt, num))\n",
    "# print(result)\n",
    "\n",
    "# result=[]\n",
    "# for i in num:\n",
    "#     result.append(math.sqrt(i))\n",
    "# print(result)"
   ]
  },
  {
   "cell_type": "code",
   "execution_count": 162,
   "metadata": {},
   "outputs": [
    {
     "output_type": "error",
     "ename": "TypeError",
     "evalue": "must be real number, not list",
     "traceback": [
      "\u001b[1;31m---------------------------------------------------------------------------\u001b[0m",
      "\u001b[1;31mTypeError\u001b[0m                                 Traceback (most recent call last)",
      "\u001b[1;32m<ipython-input-162-6d0ccf18090e>\u001b[0m in \u001b[0;36m<module>\u001b[1;34m\u001b[0m\n\u001b[1;32m----> 1\u001b[1;33m \u001b[0mmath\u001b[0m\u001b[1;33m.\u001b[0m\u001b[0msqrt\u001b[0m\u001b[1;33m(\u001b[0m\u001b[1;33m[\u001b[0m\u001b[1;36m2\u001b[0m\u001b[1;33m,\u001b[0m\u001b[1;36m3\u001b[0m\u001b[1;33m,\u001b[0m\u001b[1;36m4\u001b[0m\u001b[1;33m]\u001b[0m\u001b[1;33m)\u001b[0m\u001b[1;33m\u001b[0m\u001b[1;33m\u001b[0m\u001b[0m\n\u001b[0m",
      "\u001b[1;31mTypeError\u001b[0m: must be real number, not list"
     ]
    }
   ],
   "source": [
    "math.sqrt([2,3,4])"
   ]
  },
  {
   "cell_type": "code",
   "execution_count": 171,
   "metadata": {},
   "outputs": [
    {
     "output_type": "execute_result",
     "data": {
      "text/plain": [
       "array([1.41421356, 1.73205081, 2.        ])"
      ]
     },
     "metadata": {},
     "execution_count": 171
    }
   ],
   "source": [
    "import numpy as np\n",
    "np.sqrt([2,3,4])"
   ]
  },
  {
   "cell_type": "code",
   "execution_count": 173,
   "metadata": {},
   "outputs": [
    {
     "output_type": "stream",
     "name": "stdout",
     "text": [
      "[ 0  1  2  3  4  5  6  7  8  9 10 11 12 13 14]\n"
     ]
    }
   ],
   "source": [
    "import numpy as np\n",
    "x=np.arange(15)\n",
    "print(x)"
   ]
  },
  {
   "cell_type": "code",
   "execution_count": 174,
   "metadata": {},
   "outputs": [
    {
     "output_type": "stream",
     "name": "stdout",
     "text": [
      "[[ 0  1  2  3  4]\n [ 5  6  7  8  9]\n [10 11 12 13 14]]\n"
     ]
    }
   ],
   "source": [
    "x=x.reshape(3,5)\n",
    "print(x)"
   ]
  },
  {
   "cell_type": "code",
   "execution_count": 175,
   "metadata": {},
   "outputs": [
    {
     "output_type": "stream",
     "name": "stdout",
     "text": [
      "6\n"
     ]
    }
   ],
   "source": [
    "# 위의 x에서 6을 출력하려면?\n",
    "# 정답\n",
    "print(x[1][1])"
   ]
  },
  {
   "source": [
    "제로벡터와 제로행렬"
   ],
   "cell_type": "markdown",
   "metadata": {}
  },
  {
   "cell_type": "code",
   "execution_count": 177,
   "metadata": {},
   "outputs": [
    {
     "output_type": "stream",
     "name": "stdout",
     "text": [
      "[0. 0. 0.]\n"
     ]
    }
   ],
   "source": [
    "import numpy as np\n",
    "zero_vector=np.zeros(3)\n",
    "print(zero_vector)"
   ]
  },
  {
   "cell_type": "code",
   "execution_count": 180,
   "metadata": {},
   "outputs": [
    {
     "output_type": "stream",
     "name": "stdout",
     "text": [
      "[[0. 0. 0.]\n [0. 0. 0.]\n [0. 0. 0.]\n [0. 0. 0.]]\n"
     ]
    }
   ],
   "source": [
    "# zero_vector=np.zeros([4,3])\n",
    "zero_vector=np.zeros((4,3))\n",
    "print(zero_vector)"
   ]
  },
  {
   "cell_type": "code",
   "execution_count": 183,
   "metadata": {},
   "outputs": [
    {
     "output_type": "stream",
     "name": "stdout",
     "text": [
      "[[4. 4. 4. 4. 4.]\n [4. 4. 4. 4. 4.]\n [4. 4. 4. 4. 4.]]\n"
     ]
    }
   ],
   "source": [
    "import numpy as np\n",
    "my_array=np.zeros(15).reshape(3,5)\n",
    "my_array+=4\n",
    "print(my_array)"
   ]
  },
  {
   "cell_type": "code",
   "execution_count": 187,
   "metadata": {},
   "outputs": [
    {
     "output_type": "stream",
     "name": "stdout",
     "text": [
      "[[0.5 0.5 0.5 0.5 0.5]\n [0.5 0.5 0.5 0.5 0.5]\n [0.5 0.5 0.5 0.5 0.5]]\n"
     ]
    }
   ],
   "source": [
    "import numpy as np\n",
    "my_array=np.ones(15).reshape(3,5)\n",
    "my_array/=2\n",
    "print(my_array)"
   ]
  },
  {
   "source": [
    "#### 전치행렬 개념 알고가기  \n",
    "전치행렬(Transpose Matrix)은 행과 열을 교환하여 얻어지는 행렬을 말한다.  \n",
    "주대각선을 기준으로 위치를 바꾼다."
   ],
   "cell_type": "markdown",
   "metadata": {}
  },
  {
   "cell_type": "code",
   "execution_count": 188,
   "metadata": {},
   "outputs": [
    {
     "output_type": "error",
     "ename": "AttributeError",
     "evalue": "'list' object has no attribute 'transpose'",
     "traceback": [
      "\u001b[1;31m---------------------------------------------------------------------------\u001b[0m",
      "\u001b[1;31mAttributeError\u001b[0m                            Traceback (most recent call last)",
      "\u001b[1;32m<ipython-input-188-8591e2afc927>\u001b[0m in \u001b[0;36m<module>\u001b[1;34m\u001b[0m\n\u001b[0;32m      1\u001b[0m \u001b[0mx\u001b[0m\u001b[1;33m=\u001b[0m\u001b[1;33m[\u001b[0m\u001b[1;33m[\u001b[0m\u001b[1;36m1\u001b[0m\u001b[1;33m,\u001b[0m\u001b[1;36m2\u001b[0m\u001b[1;33m]\u001b[0m\u001b[1;33m,\u001b[0m\u001b[1;33m[\u001b[0m\u001b[1;36m3\u001b[0m\u001b[1;33m,\u001b[0m\u001b[1;36m4\u001b[0m\u001b[1;33m]\u001b[0m\u001b[1;33m]\u001b[0m\u001b[1;33m\u001b[0m\u001b[1;33m\u001b[0m\u001b[0m\n\u001b[1;32m----> 2\u001b[1;33m \u001b[0mprint\u001b[0m\u001b[1;33m(\u001b[0m\u001b[0mx\u001b[0m\u001b[1;33m.\u001b[0m\u001b[0mtranspose\u001b[0m\u001b[1;33m(\u001b[0m\u001b[1;33m)\u001b[0m\u001b[1;33m)\u001b[0m\u001b[1;33m\u001b[0m\u001b[1;33m\u001b[0m\u001b[0m\n\u001b[0m",
      "\u001b[1;31mAttributeError\u001b[0m: 'list' object has no attribute 'transpose'"
     ]
    }
   ],
   "source": [
    "x=[[1,2],[3,4]]\n",
    "print(x.transpose())"
   ]
  },
  {
   "cell_type": "code",
   "execution_count": 194,
   "metadata": {},
   "outputs": [
    {
     "output_type": "stream",
     "name": "stdout",
     "text": [
      "[[1 3 5]\n [2 4 6]]\n"
     ]
    }
   ],
   "source": [
    "import numpy as np\n",
    "x=np.array([[1,2],[3,4],[5,6]])\n",
    "print(x.transpose())"
   ]
  },
  {
   "cell_type": "code",
   "execution_count": 190,
   "metadata": {},
   "outputs": [
    {
     "output_type": "stream",
     "name": "stdout",
     "text": [
      "[1, 2, 3, 4, 5, 6]\n"
     ]
    }
   ],
   "source": [
    "# 출력 결과\n",
    "x=[1,2,3]\n",
    "y=[4,5,6]\n",
    "z = x + y\n",
    "print(z)"
   ]
  },
  {
   "cell_type": "code",
   "execution_count": 193,
   "metadata": {},
   "outputs": [
    {
     "output_type": "stream",
     "name": "stdout",
     "text": [
      "[5 7 9]\n"
     ]
    }
   ],
   "source": [
    "# 출력 결과\n",
    "import numpy as np\n",
    "x = np.array([1,2,3])\n",
    "y = np.array([4,5,6])\n",
    "z = x + y\n",
    "print(z)"
   ]
  },
  {
   "cell_type": "code",
   "execution_count": 195,
   "metadata": {},
   "outputs": [
    {
     "output_type": "stream",
     "name": "stdout",
     "text": [
      "[ 4 10 18]\n"
     ]
    }
   ],
   "source": [
    "# 곱셈\n",
    "import numpy as np\n",
    "x = np.array([1,2,3])\n",
    "y = np.array([4,5,6])\n",
    "z = x * y\n",
    "print(z)"
   ]
  },
  {
   "cell_type": "code",
   "execution_count": 196,
   "metadata": {},
   "outputs": [
    {
     "output_type": "stream",
     "name": "stdout",
     "text": [
      "[2. 2. 2.]\n"
     ]
    }
   ],
   "source": [
    "# 빈칸\n",
    "import numpy as np\n",
    "x = np.array([4,8,10])\n",
    "y = np.array([2,4,5])\n",
    "z = x/y\n",
    "print(z)\n",
    "# 목표 [2. 2. 2.]"
   ]
  },
  {
   "cell_type": "code",
   "execution_count": 197,
   "metadata": {},
   "outputs": [
    {
     "output_type": "stream",
     "name": "stdout",
     "text": [
      "[4 5 6]\n[2 5 8]\n"
     ]
    }
   ],
   "source": [
    "# 복습 짚고 넘어가기\n",
    "x=np.array([[1,2,3],[4,5,6],[7,8,9]])\n",
    "print(x[1])\n",
    "print(x[:,1])"
   ]
  },
  {
   "cell_type": "code",
   "execution_count": 198,
   "metadata": {},
   "outputs": [
    {
     "output_type": "stream",
     "name": "stdout",
     "text": [
      "[ 5 11 17]\n"
     ]
    }
   ],
   "source": [
    "x=np.array([[1,2,3],[4,5,6],[7,8,9]])\n",
    "y=np.array([[2,3,4],[5,6,7],[8,9,10]])\n",
    "print(x[:,1]+y[:,1])"
   ]
  },
  {
   "source": [
    "#### 리스트 인덱싱"
   ],
   "cell_type": "markdown",
   "metadata": {}
  },
  {
   "cell_type": "code",
   "execution_count": 199,
   "metadata": {},
   "outputs": [
    {
     "output_type": "stream",
     "name": "stdout",
     "text": [
      "[20 40 60]\n"
     ]
    }
   ],
   "source": [
    "a=np.array([10,20,30,40,50,60,70])\n",
    "i=[1,3,5]\n",
    "print(a[i])"
   ]
  },
  {
   "cell_type": "code",
   "execution_count": 209,
   "metadata": {},
   "outputs": [
    {
     "output_type": "stream",
     "name": "stdout",
     "text": [
      "b: [20 40 60]\nb: [20 10 60]\na: [10 20 30 10 50 60 70]\n"
     ]
    }
   ],
   "source": [
    "# 출력 결과\n",
    "import numpy as np\n",
    "a=np.array([10,20,30,40,50,60,70])\n",
    "b=a[1:6:2] # 슬라이싱\n",
    "print('b:', b)\n",
    "b[1]=10\n",
    "print('b:', b)\n",
    "print('a:', a)"
   ]
  },
  {
   "cell_type": "code",
   "execution_count": 210,
   "metadata": {},
   "outputs": [
    {
     "output_type": "stream",
     "name": "stdout",
     "text": [
      "b: [20 40 60]\nb: [20 10 60]\na: [10 20 30 40 50 60 70]\n"
     ]
    }
   ],
   "source": [
    "# 출력 결과\n",
    "import numpy as np\n",
    "a=np.array([10,20,30,40,50,60,70])\n",
    "b=np.array(a[1:6:2]) # 슬라이싱\n",
    "print('b:', b)\n",
    "b[1]=10\n",
    "print('b:', b)\n",
    "print('a:', a)"
   ]
  },
  {
   "source": [
    "#### 불리언(Boolean)"
   ],
   "cell_type": "markdown",
   "metadata": {}
  },
  {
   "cell_type": "code",
   "execution_count": 211,
   "metadata": {},
   "outputs": [
    {
     "output_type": "stream",
     "name": "stdout",
     "text": [
      "[False False False False False  True  True]\n"
     ]
    }
   ],
   "source": [
    "a=np.array([10,20,30,40,50,60,70])\n",
    "b=a>50\n",
    "print(b)"
   ]
  },
  {
   "cell_type": "code",
   "execution_count": 215,
   "metadata": {},
   "outputs": [
    {
     "output_type": "stream",
     "name": "stdout",
     "text": [
      "[0.00564016 0.04251929 0.17703949 0.7662739  0.94392852]\n"
     ]
    }
   ],
   "source": [
    "a = np.random.random(5)\n",
    "print(a)"
   ]
  },
  {
   "cell_type": "code",
   "execution_count": 217,
   "metadata": {},
   "outputs": [
    {
     "output_type": "stream",
     "name": "stdout",
     "text": [
      "False\n"
     ]
    }
   ],
   "source": [
    "print(np.all(a>=0.7))\n",
    "# print(np.any(a>0.7))"
   ]
  },
  {
   "cell_type": "code",
   "execution_count": 218,
   "metadata": {},
   "outputs": [
    {
     "output_type": "stream",
     "name": "stdout",
     "text": [
      "[21.85171573 20.97505669 21.75028214 24.7473475  21.44127836]\n"
     ]
    }
   ],
   "source": [
    "height=np.array([173,168,171,189,179])\n",
    "weight = np.array([65.4, 59.2, 63.6, 88.4, 68.7])\n",
    "bmi = (weight/(height**2))*10000\n",
    "print(bmi)\n",
    "#사람들의 bmi를 하나의 리스트로 출력하세요"
   ]
  },
  {
   "cell_type": "code",
   "execution_count": 219,
   "metadata": {},
   "outputs": [
    {
     "output_type": "stream",
     "name": "stdout",
     "text": [
      "[ True False  True  True  True]\n"
     ]
    }
   ],
   "source": [
    "#bmi 값이 21보다 크면 True, 그렇지 않으면 false를 출력하세요\n",
    "print(bmi>21)"
   ]
  },
  {
   "source": [
    "#### 같은 간격 나누기  \n",
    "(1) linespace()  \n",
    "(2) logspace()"
   ],
   "cell_type": "markdown",
   "metadata": {}
  },
  {
   "cell_type": "code",
   "execution_count": 221,
   "metadata": {},
   "outputs": [
    {
     "output_type": "stream",
     "name": "stdout",
     "text": [
      "[ 0.  4.  8. 12.]\n"
     ]
    }
   ],
   "source": [
    "print(np.linspace(0,12,4))"
   ]
  },
  {
   "cell_type": "code",
   "execution_count": 222,
   "metadata": {},
   "outputs": [
    {
     "output_type": "stream",
     "name": "stdout",
     "text": [
      "(array([ 0.,  4.,  8., 12.]), 4.0)\n"
     ]
    }
   ],
   "source": [
    "print(np.linspace(0,12,4,retstep=True)) # 간격을 마지막에 출력한다"
   ]
  },
  {
   "cell_type": "code",
   "execution_count": 223,
   "metadata": {},
   "outputs": [
    {
     "output_type": "stream",
     "name": "stdout",
     "text": [
      "[0. 3. 6. 9.]\n"
     ]
    }
   ],
   "source": [
    "print(np.linspace(0,12,4,endpoint=False))\n",
    "# 간격의 시작 값만 출력하고, 마지막 값 출력하지 않는다.\n",
    "# default 는 true"
   ]
  },
  {
   "cell_type": "code",
   "execution_count": 224,
   "metadata": {},
   "outputs": [
    {
     "output_type": "execute_result",
     "data": {
      "text/plain": [
       "array([ 10.        ,  17.7827941 ,  31.6227766 ,  56.23413252,\n",
       "       100.        ])"
      ]
     },
     "metadata": {},
     "execution_count": 224
    }
   ],
   "source": [
    "# 참고\n",
    "np.logspace(1,2,5)"
   ]
  }
 ]
}